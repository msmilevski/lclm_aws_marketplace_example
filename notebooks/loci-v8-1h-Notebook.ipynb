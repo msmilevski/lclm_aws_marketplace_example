{
 "cells": [
  {
   "cell_type": "code",
   "execution_count": 25,
   "id": "5026f52b-d86d-4c4c-8090-bd0721e1d2b4",
   "metadata": {},
   "outputs": [],
   "source": [
    "import sagemaker\n",
    "import boto3\n",
    "import pandas\n",
    "import numpy\n",
    "import io\n",
    "import matplotlib.pyplot as plt"
   ]
  },
  {
   "cell_type": "code",
   "execution_count": 17,
   "id": "f6b07cdb-fa7a-41f7-9603-945062f7312c",
   "metadata": {},
   "outputs": [],
   "source": [
    "# If you are running the script locally uncomment this line\n",
    "# role = \"arn-sagemaker-role-for-the-user\"\n",
    "\n",
    "# If you are running this notebook in Sagemaker Notebook, uncomment this line\n",
    "# role = sagemaker.get_execution_role()\n",
    "\n",
    "sagemaker_session = sagemaker.Session()\n",
    "bucket = sagemaker_session.default_bucket()\n",
    "runtime = boto3.client(\"runtime.sagemaker\")\n",
    "\n",
    "endpoint_name_1 = \"loci-v8-1h-endpoint\"\n",
    "# Get the model_package_arn\n",
    "modelpackage_arn = \"\"\n",
    "\n",
    "# create a deployable model for damage inspection model package.\n",
    "model = sagemaker.ModelPackage(\n",
    "    role=role,\n",
    "    model_package_arn=modelpackage_arn,\n",
    "    sagemaker_session=sagemaker_session,\n",
    ")"
   ]
  },
  {
   "cell_type": "code",
   "execution_count": null,
   "id": "ad526be9-f002-4b51-bde3-982f83fc060c",
   "metadata": {},
   "outputs": [],
   "source": [
    "# Deploy the model\n",
    "predictor = model.deploy(1, \"ml.g5.xlarge\", endpoint_name=endpoint_name_1)"
   ]
  },
  {
   "cell_type": "code",
   "execution_count": null,
   "id": "1f24ae2a-eaa7-48b2-9040-8f35e5f9bb69",
   "metadata": {},
   "outputs": [],
   "source": [
    "data = pandas.read_csv('../data/arm_dataset.csv')\n",
    "print(data.head())\n",
    "data_bytes = data.to_csv(None, index=False)"
   ]
  },
  {
   "cell_type": "code",
   "execution_count": null,
   "id": "99ef7b5f",
   "metadata": {},
   "outputs": [],
   "source": [
    "def plot_distribution(weights):\n",
    "    x = numpy.linspace(0, 10, 128)\n",
    "    plt.bar(x, weights)\n",
    "    plt.title('Cycle Distribution')\n",
    "    plt.xlabel('Log Cycle time')\n",
    "    plt.ylabel('Probability Density')\n",
    "    plt.grid(True)\n",
    "    plt.show()"
   ]
  },
  {
   "cell_type": "code",
   "execution_count": null,
   "id": "d9dab24a-dc3e-4d8d-89ca-02caa09401ed",
   "metadata": {},
   "outputs": [],
   "source": [
    "# Perform a prediction\n",
    "response = runtime.invoke_endpoint(\n",
    "    EndpointName=endpoint_name_1,\n",
    "    ContentType=\"text/csv\",\n",
    "    Body=data_bytes\n",
    ")\n",
    "array_dist = numpy.load(io.BytesIO(response['Body'].read()))\n",
    "# View the predictiona\n",
    "plot_distribution(array_dist[0])\n",
    "\n",
    "sample_log_cycle_time = numpy.random.choice(\n",
    "    a=numpy.linspace(0, 10, 128),\n",
    "    size=10000,\n",
    "    p=array_dist[0]\n",
    ")\n",
    "avg_cycle_time = int(numpy.exp(numpy.mean(sample_log_cycle_time)))\n",
    "stddev_cycle_time = int(numpy.exp(numpy.std(sample_log_cycle_time)))\n",
    "median_cycle_time = int(numpy.exp(numpy.median(sample_log_cycle_time)))\n",
    "min_cycle_time = int(numpy.exp(numpy.min(sample_log_cycle_time)))\n",
    "max_cycle_time = int(numpy.exp(numpy.max(sample_log_cycle_time)))\n",
    "\n",
    "report = (\n",
    "    f\"Average cycle time: {avg_cycle_time}\\n\" \\\n",
    "    f\"Standard deviation: {stddev_cycle_time}\\n\" \\\n",
    "    f\"Median cycle time: {median_cycle_time}\\n\" \\\n",
    "    f\"Minimum cycle time: {min_cycle_time}\\n\" \\\n",
    "    f\"Maximum cycle time: {max_cycle_time}\\n\" \\\n",
    ")\n",
    "print(report)"
   ]
  },
  {
   "cell_type": "code",
   "execution_count": null,
   "id": "8334293b-99d3-4ed3-82f3-b0add0d31087",
   "metadata": {},
   "outputs": [],
   "source": [
    "# Delete the endpoint and the model\n",
    "model.sagemaker_session.delete_endpoint(endpoint_name_1)\n",
    "model.sagemaker_session.delete_endpoint_config(endpoint_name_1)\n",
    "model.delete_model()"
   ]
  }
 ],
 "metadata": {
  "kernelspec": {
   "display_name": "conda_python3",
   "language": "python",
   "name": "conda_python3"
  },
  "language_info": {
   "codemirror_mode": {
    "name": "ipython",
    "version": 3
   },
   "file_extension": ".py",
   "mimetype": "text/x-python",
   "name": "python",
   "nbconvert_exporter": "python",
   "pygments_lexer": "ipython3",
   "version": "3.10.17"
  }
 },
 "nbformat": 4,
 "nbformat_minor": 5
}
